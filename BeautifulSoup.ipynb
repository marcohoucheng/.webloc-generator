{
 "cells": [
  {
   "cell_type": "markdown",
   "metadata": {},
   "source": [
    "https://www.geeksforgeeks.org/scrape-content-from-dynamic-websites/"
   ]
  },
  {
   "cell_type": "code",
   "execution_count": 3,
   "metadata": {},
   "outputs": [],
   "source": [
    "# Import requests and BeautifulSoup libraries\n",
    "import requests\n",
    "from bs4 import BeautifulSoup\n",
    "\n",
    "# Define the base url and the target url\n",
    "base_url = \"http://cs231n.stanford.edu/\"\n",
    "target_url = base_url + \"2017/reports.html\"\n",
    "\n",
    "# Get the html content of the target url\n",
    "response = requests.get(target_url)\n",
    "html = response.text\n",
    "\n",
    "# Parse the html using BeautifulSoup\n",
    "soup = BeautifulSoup(html, \"html.parser\")"
   ]
  },
  {
   "cell_type": "code",
   "execution_count": 4,
   "metadata": {},
   "outputs": [
    {
     "data": {
      "text/plain": [
       "\n",
       "<!DOCTYPE html>\n",
       "\n",
       "<html lang=\"en\">\n",
       "<head>\n",
       "<meta charset=\"utf-8\"/>\n",
       "<meta content=\"IE=edge\" http-equiv=\"X-UA-Compatible\"/>\n",
       "<meta content=\"width=device-width, initial-scale=1\" name=\"viewport\"/>\n",
       "<title>Stanford University CS231n: Course Projects Spring 2017</title>\n",
       "<!-- bootstrap -->\n",
       "<link href=\"https://maxcdn.bootstrapcdn.com/bootstrap/3.2.0/css/bootstrap.min.css\" rel=\"stylesheet\"/>\n",
       "<link href=\"https://maxcdn.bootstrapcdn.com/bootstrap/3.2.0/css/bootstrap-theme.min.css\" rel=\"stylesheet\"/>\n",
       "<!-- Google fonts -->\n",
       "<link href=\"http://fonts.googleapis.com/css?family=Roboto:400,300\" rel=\"stylesheet\" type=\"text/css\"/>\n",
       "<!-- Google Analytics -->\n",
       "<script>\n",
       "  (function(i,s,o,g,r,a,m){i['GoogleAnalyticsObject']=r;i[r]=i[r]||function(){\n",
       "  (i[r].q=i[r].q||[]).push(arguments)},i[r].l=1*new Date();a=s.createElement(o),\n",
       "  m=s.getElementsByTagName(o)[0];a.async=1;a.src=g;m.parentNode.insertBefore(a,m)\n",
       "  })(window,document,'script','//www.google-analytics.com/analytics.js','ga');\n",
       "  ga('create', 'UA-46895817-2', 'auto');\n",
       "  ga('send', 'pageview');\n",
       "  </script>\n",
       "<link href=\"style.css\" rel=\"stylesheet\" type=\"text/css\">\n",
       "<!-- jQuery and Boostrap and Underscore -->\n",
       "<script src=\"https://ajax.googleapis.com/ajax/libs/jquery/1.11.1/jquery.min.js\"></script>\n",
       "<script src=\"https://maxcdn.bootstrapcdn.com/bootstrap/3.2.0/js/bootstrap.min.js\"></script>\n",
       "<script src=\"https://cdnjs.cloudflare.com/ajax/libs/underscore.js/1.8.3/underscore-min.js\"></script>\n",
       "<style>\n",
       "  .hh {\n",
       "    margin: 10px 0px 10px 0px;\n",
       "    border-bottom: 1px solid #8C1515;\n",
       "    color: #8C1515;\n",
       "  }\n",
       "  .pt {\n",
       "    color: #8C1515;\n",
       "    font-size: 24px;\n",
       "  }\n",
       "  .pa {\n",
       "    color: #8C1515;\n",
       "  }\n",
       "  .pl {\n",
       "  }\n",
       "  .pr {\n",
       "    font-size: 20px;\n",
       "    box-shadow: 0px 2px 1px #CCC, 0px -2px 1px #CCC;\n",
       "    padding: 5px;\n",
       "    margin-bottom: 10px;\n",
       "  }\n",
       "  .pi img {\n",
       "    max-width: 100%;\n",
       "    padding: 5px;\n",
       "    border: 1px solid black;\n",
       "  }\n",
       "  </style>\n",
       "</link></head>\n",
       "<body>\n",
       "<script>\n",
       "  $(function() {\n",
       "    function randint(min, max) {\n",
       "      return Math.floor((max - min + 1) * Math.random() + min);\n",
       "    }\n",
       "\n",
       "    function swap(ary, i, j) {\n",
       "      var t = ary[i];\n",
       "      ary[i] = ary[j];\n",
       "      ary[j] = t;\n",
       "    }\n",
       "\n",
       "    function shuffle(ary, num_swaps) {\n",
       "      for (var i = 0; i < num_swaps; i++) {\n",
       "        var idx = randint(0, ary.length - 2);\n",
       "        swap(ary, idx, idx + 1);\n",
       "      }\n",
       "    }\n",
       "\n",
       "    function main(projects) {\n",
       "      var NUM_SWAPS = 400;\n",
       "      shuffle(projects.public_projects, NUM_SWAPS);\n",
       "\n",
       "      var num_public = projects.public_projects.length;\n",
       "      var num_private = projects.num_private_projects;\n",
       "      var num_total = num_public + num_private;\n",
       "      $('#counter-div').text(\n",
       "          'Showing ' + num_public + ' of ' + num_total + ' projects ('\n",
       "          + num_private + ' requested to remain private)');\n",
       "\n",
       "      var template_fn = _.template($('#project-template').html());\n",
       "      var report_dir = null;\n",
       "      console.log(window.location.pathname);\n",
       "      if (window.location.pathname === '/2017/reports.html') {\n",
       "        report_dir = '../reports/2017';\n",
       "      } else if(window.location.pathname === '/reports.html') {\n",
       "        report_dir = 'reports/2017';\n",
       "      }\n",
       "      console.log(report_dir);\n",
       "      for (var i = 0; i < projects.public_projects.length; i++) {\n",
       "        var project = projects.public_projects[i];\n",
       "        project.authors = '';\n",
       "        project.report_dir = report_dir;\n",
       "        for (var j = 0; j < project.names.length; j++) {\n",
       "          project.authors += project.names[j][0] + ' ' + project.names[j][1];\n",
       "          if (j + 1 < project.names.length) {\n",
       "            project.authors += ', ';\n",
       "          }\n",
       "        }\n",
       "        var html = template_fn(project);\n",
       "        $('#reports').append(html);\n",
       "      }\n",
       "    }\n",
       "\n",
       "    $.getJSON('projects2017.json', main);\n",
       "  })\n",
       "</script>\n",
       "<script id=\"project-template\" type=\"text/template\">\n",
       "  <div class='pt'>\n",
       "    <a href='<%= report_dir %>/pdfs/<%= tid %>.pdf' target='_blank'><%= title %></a>\n",
       "    <% if (has_poster) { %> \n",
       "      <a href='<%= report_dir %>/posters/<%= tid %>.pdf' target='_blank'>(poster)</a>\n",
       "    <% } %>\n",
       "    <div class='pa'>\n",
       "      <%= authors %>\n",
       "    </div>\n",
       "    <div class='pi'>\n",
       "      <a href='<%= report_dir %>/pdfs/<%= tid %>.pdf' target='_blank'>\n",
       "        <img src='<%= report_dir %>/thumbs/<%= tid %>.png'>\n",
       "      </a>\n",
       "    </div>\n",
       "    <br>\n",
       "  </div>\n",
       "</script>\n",
       "<div id=\"header\">\n",
       "<a href=\"http://vision.stanford.edu/\">\n",
       "<img src=\"img/visionlablogo.png\" style=\"height:50px; float: left; margin-left: 20px;\"/>\n",
       "</a>\n",
       "<a href=\"http://stanford.edu/\">\n",
       "<img src=\"img/stanfordlogo.jpg\" style=\"height:50px; float: right; margin-right: 20px;\"/>\n",
       "</a>\n",
       "<a href=\"http://cs231n.stanford.edu/\">\n",
       "<h1>CS231n: Convolutional Neural Networks for Visual Recognition</h1>\n",
       "</a>\n",
       "<div style=\"clear:both;\"></div>\n",
       "</div>\n",
       "<div style=\"background-color:#8C1515; color:#FFF; padding:15px; text-align:center;\">\n",
       "<h1 style=\"display:inline-block; margin-right: 10px;\">Course Project Reports: Spring 2017</h1>\n",
       "<a class=\"twitter-share-button\" data-hashtags=\"cs231n\" data-size=\"large\" data-text=\"Course Projects for Stanford's CS231n Spring 2017 (Convolutional Neural Networks class)\" data-url=\"http://cs231n.stanford.edu/reports.html\" data-via=\"cs231n\" href=\"https://twitter.com/share\">Tweet</a>\n",
       "<script>!function(d,s,id){var js,fjs=d.getElementsByTagName(s)[0],p=/^http:/.test(d.location)?'http':'https';if(!d.getElementById(id)){js=d.createElement(s);js.id=id;js.src=p+'://platform.twitter.com/widgets.js';fjs.parentNode.insertBefore(js,fjs);}}(document, 'script', 'twitter-wjs');</script>\n",
       "</div>\n",
       "<div class=\"container sec\" id=\"reports\">\n",
       "<div id=\"counter-div\"></div><br/>\n",
       "</div>\n",
       "</body>\n",
       "</html>"
      ]
     },
     "execution_count": 4,
     "metadata": {},
     "output_type": "execute_result"
    }
   ],
   "source": [
    "soup"
   ]
  },
  {
   "cell_type": "code",
   "execution_count": 5,
   "metadata": {},
   "outputs": [
    {
     "data": {
      "text/plain": [
       "[<div class=\"container sec\" id=\"reports\">\n",
       " <div id=\"counter-div\"></div><br/>\n",
       " </div>]"
      ]
     },
     "execution_count": 5,
     "metadata": {},
     "output_type": "execute_result"
    }
   ],
   "source": [
    "soup.find_all(\"div\", {\"class\": \"container sec\"})"
   ]
  },
  {
   "cell_type": "code",
   "execution_count": 18,
   "metadata": {},
   "outputs": [
    {
     "name": "stdout",
     "output_type": "stream",
     "text": [
      "None\n"
     ]
    }
   ],
   "source": [
    "# Find the div with class 'container sec' and id 'reports'\n",
    "container = soup.find('div', class_='pt')\n",
    "print(container)"
   ]
  },
  {
   "cell_type": "code",
   "execution_count": 20,
   "metadata": {},
   "outputs": [
    {
     "name": "stdout",
     "output_type": "stream",
     "text": [
      "<div class=\"container sec\" id=\"reports\">\n",
      "<div id=\"counter-div\"></div><br/>\n",
      "</div>\n",
      "None\n"
     ]
    }
   ],
   "source": [
    "# Find the div with class 'container sec' and id 'reports'\n",
    "container = soup.find('div', class_='container sec', id='reports')\n",
    "print(container)\n",
    "\n",
    "sub_classes = container.find('div', class_='pt')\n",
    "\n",
    "# Do something with the extracted information\n",
    "print(sub_classes)\n",
    "# Or iterate over nested tags\n",
    "# for classe in sub_classes:\n",
    "#     print(classe.text)"
   ]
  },
  {
   "cell_type": "code",
   "execution_count": null,
   "metadata": {},
   "outputs": [],
   "source": [
    "# Find all the links that end with .pdf\n",
    "links = soup.find_all(\"a\", href=lambda x: x and x.endswith(\".pdf\")) # no links found\n",
    "\n",
    "# Loop through the links and download the pdf files\n",
    "for link in links:\n",
    "    # Get the pdf url and the file name\n",
    "    pdf_url = base_url + link[\"href\"]\n",
    "    file_name = link[\"href\"].split(\"/\")[-1]\n",
    "\n",
    "    # Print the pdf url and the file name\n",
    "    print(f\"Downloading {pdf_url} as {file_name}\")\n",
    "\n",
    "    # Get the pdf content as bytes\n",
    "    pdf_response = requests.get(pdf_url)\n",
    "    pdf_content = pdf_response.content\n",
    "\n",
    "    # Write the pdf content to a file\n",
    "    with open(file_name, \"wb\") as f:\n",
    "        f.write(pdf_content)\n",
    "\n",
    "# Print a message when done\n",
    "print(\"Done!\")\n"
   ]
  }
 ],
 "metadata": {
  "kernelspec": {
   "display_name": "Python 3",
   "language": "python",
   "name": "python3"
  },
  "language_info": {
   "codemirror_mode": {
    "name": "ipython",
    "version": 3
   },
   "file_extension": ".py",
   "mimetype": "text/x-python",
   "name": "python",
   "nbconvert_exporter": "python",
   "pygments_lexer": "ipython3",
   "version": "3.9.16"
  }
 },
 "nbformat": 4,
 "nbformat_minor": 2
}
