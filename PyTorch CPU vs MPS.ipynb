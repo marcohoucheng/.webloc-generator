{
 "cells": [
  {
   "cell_type": "markdown",
   "metadata": {},
   "source": [
    "PyTorch results replicating from https://github.com/pytorch/pytorch/issues/77799"
   ]
  },
  {
   "cell_type": "code",
   "execution_count": 1,
   "metadata": {},
   "outputs": [],
   "source": [
    "import timeit\n",
    "import torch\n",
    "import random"
   ]
  },
  {
   "cell_type": "code",
   "execution_count": 2,
   "metadata": {},
   "outputs": [],
   "source": [
    "a_cpu = torch.rand(1000, device='cpu')\n",
    "b_cpu = torch.rand((1000, 1000), device='cpu')\n",
    "a_mps = torch.rand(1000, device='mps')\n",
    "b_mps = torch.rand((1000, 1000), device='mps')"
   ]
  },
  {
   "cell_type": "code",
   "execution_count": 3,
   "metadata": {},
   "outputs": [
    {
     "name": "stdout",
     "output_type": "stream",
     "text": [
      "cpu 3.010160916004679\n",
      "mps 5.523497375004808\n"
     ]
    }
   ],
   "source": [
    "print('cpu', timeit.timeit(lambda: a_cpu @ b_cpu, number=100_000))\n",
    "print('mps', timeit.timeit(lambda: a_mps @ b_mps, number=100_000))"
   ]
  },
  {
   "cell_type": "code",
   "execution_count": 4,
   "metadata": {},
   "outputs": [
    {
     "name": "stdout",
     "output_type": "stream",
     "text": [
      "cpu 9.90826874999766\n",
      "mps 5.495635082996159\n"
     ]
    }
   ],
   "source": [
    "print('cpu', timeit.timeit(lambda: b_cpu @ b_cpu, number=10_000))\n",
    "print('mps', timeit.timeit(lambda: b_mps @ b_mps, number=10_000))"
   ]
  },
  {
   "cell_type": "code",
   "execution_count": 5,
   "metadata": {},
   "outputs": [
    {
     "name": "stdout",
     "output_type": "stream",
     "text": [
      "cpu 108.51756733400543\n",
      "mps 31.734809916000813\n"
     ]
    }
   ],
   "source": [
    "b_cpu = torch.rand((10000, 10000), device='cpu')\n",
    "b_mps = torch.rand((10000, 10000), device='mps')\n",
    "\n",
    "print('cpu', timeit.timeit(lambda: b_cpu @ b_cpu, number=100))\n",
    "print('mps', timeit.timeit(lambda: b_mps @ b_mps, number=100))"
   ]
  }
 ],
 "metadata": {
  "kernelspec": {
   "display_name": "Python 3",
   "language": "python",
   "name": "python3"
  },
  "language_info": {
   "codemirror_mode": {
    "name": "ipython",
    "version": 3
   },
   "file_extension": ".py",
   "mimetype": "text/x-python",
   "name": "python",
   "nbconvert_exporter": "python",
   "pygments_lexer": "ipython3",
   "version": "3.11.6"
  }
 },
 "nbformat": 4,
 "nbformat_minor": 2
}
